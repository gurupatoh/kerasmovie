{
  "nbformat": 4,
  "nbformat_minor": 0,
  "metadata": {
    "colab": {
      "name": "collaborative_filtering_movielens.ipynb",
      "provenance": [],
      "collapsed_sections": [],
      "toc_visible": true,
      "include_colab_link": true
    },
    "kernelspec": {
      "display_name": "Python 3",
      "language": "python",
      "name": "python3"
    },
    "language_info": {
      "codemirror_mode": {
        "name": "ipython",
        "version": 3
      },
      "file_extension": ".py",
      "mimetype": "text/x-python",
      "name": "python",
      "nbconvert_exporter": "python",
      "pygments_lexer": "ipython3",
      "version": "3.7.0"
    },
    "accelerator": "TPU"
  },
  "cells": [
    {
      "cell_type": "markdown",
      "metadata": {
        "id": "view-in-github",
        "colab_type": "text"
      },
      "source": [
        "<a href=\"https://colab.research.google.com/github/gurupatoh/kerasmovie/blob/master/collaborative_filtering_movielens.ipynb\" target=\"_parent\"><img src=\"https://colab.research.google.com/assets/colab-badge.svg\" alt=\"Open In Colab\"/></a>"
      ]
    },
    {
      "cell_type": "markdown",
      "metadata": {
        "id": "76C_rGhTzN-3"
      },
      "source": [
        "# Collaborative Filtering for Movie Recommendations\n",
        "\n",
        "**Author:** [Siddhartha Banerjee](https://twitter.com/sidd2006)<br>\n",
        "**Date created:** 2020/05/24<br>\n",
        "**Last modified:** 2020/05/24<br>\n",
        "**Description:** Recommending movies using a model trained on Movielens dataset."
      ]
    },
    {
      "cell_type": "markdown",
      "metadata": {
        "id": "FEdQ-ENHzN-7"
      },
      "source": [
        "## Introduction\n",
        "\n",
        "This example demonstrates\n",
        "[Collaborative filtering](https://en.wikipedia.org/wiki/Collaborative_filtering)\n",
        "using the [Movielens dataset](https://www.kaggle.com/c/movielens-100k)\n",
        "to recommend movies to users.\n",
        "The MovieLens ratings dataset lists the ratings given by a set of users to a set of movies.\n",
        "Our goal is to be able to predict ratings for movies a user has not yet watched.\n",
        "The movies with the highest predicted ratings can then be recommended to the user.\n",
        "\n",
        "The steps in the model are as follows:\n",
        "\n",
        "1. Map user ID to a \"user vector\" via an embedding matrix\n",
        "2. Map movie ID to a \"movie vector\" via an embedding matrix\n",
        "3. Compute the dot product between the user vector and movie vector, to obtain\n",
        "the a match score between the user and the movie (predicted rating).\n",
        "4. Train the embeddings via gradient descent using all known user-movie pairs.\n",
        "\n",
        "**References:**\n",
        "\n",
        "- [Collaborative Filtering](https://dl.acm.org/doi/pdf/10.1145/371920.372071)\n",
        "- [Neural Collaborative Filtering](https://dl.acm.org/doi/pdf/10.1145/3038912.3052569)\n"
      ]
    },
    {
      "cell_type": "code",
      "metadata": {
        "id": "VEEK_yfAzN--"
      },
      "source": [
        "import pandas as pd\n",
        "import numpy as np\n",
        "from zipfile import ZipFile\n",
        "import tensorflow as tf\n",
        "from tensorflow import keras\n",
        "from tensorflow.keras import layers\n",
        "from pathlib import Path\n",
        "import matplotlib.pyplot as plt\n"
      ],
      "execution_count": 13,
      "outputs": []
    },
    {
      "cell_type": "markdown",
      "metadata": {
        "id": "xoT_gj67zN_P"
      },
      "source": [
        "## First, load the data and apply preprocessing\n"
      ]
    },
    {
      "cell_type": "code",
      "metadata": {
        "id": "hCL99wH1zN_T"
      },
      "source": [
        "# Download the actual data from http://files.grouplens.org/datasets/movielens/ml-latest-small.zip\"\n",
        "# Use the ratings.csv file\n",
        "movielens_data_file_url = (\n",
        "    \"http://files.grouplens.org/datasets/movielens/ml-latest-small.zip\"\n",
        ")\n",
        "movielens_zipped_file = keras.utils.get_file(\n",
        "    \"ml-latest-small.zip\", movielens_data_file_url, extract=False\n",
        ")\n",
        "keras_datasets_path = Path(movielens_zipped_file).parents[0]\n",
        "movielens_dir = keras_datasets_path / \"ml-latest-small\"\n",
        "\n",
        "# Only extract the data the first time the script is run.\n",
        "if not movielens_dir.exists():\n",
        "    with ZipFile(movielens_zipped_file, \"r\") as zip:\n",
        "        # Extract files\n",
        "        print(\"Extracting all the files now...\")\n",
        "        zip.extractall(path=keras_datasets_path)\n",
        "        print(\"Done!\")\n",
        "\n",
        "ratings_file = movielens_dir / \"ratings.csv\"\n",
        "df = pd.read_csv(ratings_file)\n"
      ],
      "execution_count": 14,
      "outputs": []
    },
    {
      "cell_type": "markdown",
      "metadata": {
        "id": "I3ek_mGjzN_m"
      },
      "source": [
        "First, need to perform some preprocessing to encode users and movies as integer indices.\n"
      ]
    },
    {
      "cell_type": "code",
      "metadata": {
        "id": "K56R6e7-zN_o",
        "outputId": "10a7dbe5-0419-405d-f1c4-17de9f37c9cf",
        "colab": {
          "base_uri": "https://localhost:8080/",
          "height": 34
        }
      },
      "source": [
        "user_ids = df[\"userId\"].unique().tolist()\n",
        "user2user_encoded = {x: i for i, x in enumerate(user_ids)}\n",
        "userencoded2user = {i: x for i, x in enumerate(user_ids)}\n",
        "movie_ids = df[\"movieId\"].unique().tolist()\n",
        "movie2movie_encoded = {x: i for i, x in enumerate(movie_ids)}\n",
        "movie_encoded2movie = {i: x for i, x in enumerate(movie_ids)}\n",
        "df[\"user\"] = df[\"userId\"].map(user2user_encoded)\n",
        "df[\"movie\"] = df[\"movieId\"].map(movie2movie_encoded)\n",
        "\n",
        "num_users = len(user2user_encoded)\n",
        "num_movies = len(movie_encoded2movie)\n",
        "df[\"rating\"] = df[\"rating\"].values.astype(np.float32)\n",
        "# min and max ratings will be used to normalize the ratings later\n",
        "min_rating = min(df[\"rating\"])\n",
        "max_rating = max(df[\"rating\"])\n",
        "\n",
        "print(\n",
        "    \"Number of users: {}, Number of Movies: {}, Min rating: {}, Max rating: {}\".format(\n",
        "        num_users, num_movies, min_rating, max_rating\n",
        "    )\n",
        ")\n"
      ],
      "execution_count": 15,
      "outputs": [
        {
          "output_type": "stream",
          "text": [
            "Number of users: 610, Number of Movies: 9724, Min rating: 0.5, Max rating: 5.0\n"
          ],
          "name": "stdout"
        }
      ]
    },
    {
      "cell_type": "markdown",
      "metadata": {
        "id": "aFn1PGTgzN_0"
      },
      "source": [
        "## Prepare training and validation data\n"
      ]
    },
    {
      "cell_type": "code",
      "metadata": {
        "id": "0t-2-dM8zN_2"
      },
      "source": [
        "df = df.sample(frac=1, random_state=42)\n",
        "x = df[[\"user\", \"movie\"]].values\n",
        "# Normalize the targets between 0 and 1. Makes it easy to train.\n",
        "y = df[\"rating\"].apply(lambda x: (x - min_rating) / (max_rating - min_rating)).values\n",
        "# Assuming training on 90% of the data and validating on 10%.\n",
        "train_indices = int(0.9 * df.shape[0])\n",
        "x_train, x_val, y_train, y_val = (\n",
        "    x[:train_indices],\n",
        "    x[train_indices:],\n",
        "    y[:train_indices],\n",
        "    y[train_indices:],\n",
        ")\n"
      ],
      "execution_count": 16,
      "outputs": []
    },
    {
      "cell_type": "markdown",
      "metadata": {
        "id": "NuQnhCP_zOAB"
      },
      "source": [
        "## Create the model\n",
        "\n",
        "We embed both users and movies in to 50-dimensional vectors.\n",
        "\n",
        "The model computes a match score between user and movie embeddings via a dot product,\n",
        "and adds a per-movie and per-user bias. The match score is scaled to the `[0, 1]`\n",
        "interval via a sigmoid (since our ratings are normalized to this range).\n"
      ]
    },
    {
      "cell_type": "code",
      "metadata": {
        "id": "i_78bskGzOAJ"
      },
      "source": [
        "EMBEDDING_SIZE = 50\n",
        "\n",
        "\n",
        "class RecommenderNet(keras.Model):\n",
        "    def __init__(self, num_users, num_movies, embedding_size, **kwargs):\n",
        "        super(RecommenderNet, self).__init__(**kwargs)\n",
        "        self.num_users = num_users\n",
        "        self.num_movies = num_movies\n",
        "        self.embedding_size = embedding_size\n",
        "        self.user_embedding = layers.Embedding(\n",
        "            num_users,\n",
        "            embedding_size,\n",
        "            embeddings_initializer=\"he_normal\",\n",
        "            embeddings_regularizer=keras.regularizers.l2(1e-6),\n",
        "        )\n",
        "        self.user_bias = layers.Embedding(num_users, 1)\n",
        "        self.movie_embedding = layers.Embedding(\n",
        "            num_movies,\n",
        "            embedding_size,\n",
        "            embeddings_initializer=\"he_normal\",\n",
        "            embeddings_regularizer=keras.regularizers.l2(1e-6),\n",
        "        )\n",
        "        self.movie_bias = layers.Embedding(num_movies, 1)\n",
        "\n",
        "    def call(self, inputs):\n",
        "        user_vector = self.user_embedding(inputs[:, 0])\n",
        "        user_bias = self.user_bias(inputs[:, 0])\n",
        "        movie_vector = self.movie_embedding(inputs[:, 1])\n",
        "        movie_bias = self.movie_bias(inputs[:, 1])\n",
        "        dot_user_movie = tf.tensordot(user_vector, movie_vector, 2)\n",
        "        # Add all the components (including bias)\n",
        "        x = dot_user_movie + user_bias + movie_bias\n",
        "        # The sigmoid activation forces the rating to between 0 and 1\n",
        "        return tf.nn.sigmoid(x)\n",
        "\n",
        "\n",
        "model = RecommenderNet(num_users, num_movies, EMBEDDING_SIZE)\n",
        "model.compile(\n",
        "    loss=tf.keras.losses.BinaryCrossentropy(), optimizer=keras.optimizers.Adam(lr=0.001)\n",
        ")\n"
      ],
      "execution_count": 17,
      "outputs": []
    },
    {
      "cell_type": "markdown",
      "metadata": {
        "id": "qNRuEXzGzOAb"
      },
      "source": [
        "## Train the model based on the data split\n"
      ]
    },
    {
      "cell_type": "code",
      "metadata": {
        "id": "JaL9RmWFzOAi",
        "outputId": "87cf3595-5b3a-4bd2-ef44-91806199f91b",
        "colab": {
          "base_uri": "https://localhost:8080/",
          "height": 187
        }
      },
      "source": [
        "history = model.fit(\n",
        "    x=x_train,\n",
        "    y=y_train,\n",
        "    batch_size=64,\n",
        "    epochs=5,\n",
        "    verbose=1,\n",
        "    validation_data=(x_val, y_val),\n",
        ")\n"
      ],
      "execution_count": 18,
      "outputs": [
        {
          "output_type": "stream",
          "text": [
            "Epoch 1/5\n",
            "1418/1418 [==============================] - 4s 3ms/step - loss: 0.6365 - val_loss: 0.6204\n",
            "Epoch 2/5\n",
            "1418/1418 [==============================] - 4s 3ms/step - loss: 0.6131 - val_loss: 0.6195\n",
            "Epoch 3/5\n",
            "1418/1418 [==============================] - 4s 3ms/step - loss: 0.6085 - val_loss: 0.6146\n",
            "Epoch 4/5\n",
            "1418/1418 [==============================] - 4s 3ms/step - loss: 0.6075 - val_loss: 0.6126\n",
            "Epoch 5/5\n",
            "1418/1418 [==============================] - 4s 3ms/step - loss: 0.6068 - val_loss: 0.6152\n"
          ],
          "name": "stdout"
        }
      ]
    },
    {
      "cell_type": "markdown",
      "metadata": {
        "id": "_w4IdDYfzOA3"
      },
      "source": [
        "## Plot training and validation loss\n"
      ]
    },
    {
      "cell_type": "code",
      "metadata": {
        "id": "WW7Uae7ZzOA5",
        "outputId": "6a347aae-45c9-4b2f-ea4c-0d17ba83b10d",
        "colab": {
          "base_uri": "https://localhost:8080/",
          "height": 295
        }
      },
      "source": [
        "plt.plot(history.history[\"loss\"])\n",
        "plt.plot(history.history[\"val_loss\"])\n",
        "plt.title(\"model loss\")\n",
        "plt.ylabel(\"loss\")\n",
        "plt.xlabel(\"epoch\")\n",
        "plt.legend([\"train\", \"test\"], loc=\"upper left\")\n",
        "plt.show()\n"
      ],
      "execution_count": 19,
      "outputs": [
        {
          "output_type": "display_data",
          "data": {
            "image/png": "[encoded data removed]",
            "text/plain": [
              "<Figure size 432x288 with 1 Axes>"
            ]
          },
          "metadata": {
            "tags": [],
            "needs_background": "light"
          }
        }
      ]
    },
    {
      "cell_type": "markdown",
      "metadata": {
        "id": "MbON_iBKzOBD"
      },
      "source": [
        "## Show top 10 movie recommendations to a user\n"
      ]
    },
    {
      "cell_type": "code",
      "metadata": {
        "id": "hlbX6ZN_zOBF",
        "outputId": "5d7dc71b-cf47-4f04-ae4d-ea0df2deec27",
        "colab": {
          "base_uri": "https://localhost:8080/",
          "height": 751
        }
      },
      "source": [
        "movie_df = pd.read_csv(movielens_dir / \"movies.csv\")\n",
        "\n",
        "# Let us get a user and see the top recommendations.\n",
        "user_id = df.userId.sample(1).iloc[0]\n",
        "movies_watched_by_user = df[df.userId == user_id]\n",
        "movies_not_watched = movie_df[\n",
        "    ~movie_df[\"movieId\"].isin(movies_watched_by_user.movieId.values)\n",
        "][\"movieId\"]\n",
        "movies_not_watched = list(\n",
        "    set(movies_not_watched).intersection(set(movie2movie_encoded.keys()))\n",
        ")\n",
        "movies_not_watched = [[movie2movie_encoded.get(x)] for x in movies_not_watched]\n",
        "user_encoder = user2user_encoded.get(user_id)\n",
        "user_movie_array = np.hstack(\n",
        "    ([[user_encoder]] * len(movies_not_watched), movies_not_watched)\n",
        ")\n",
        "ratings = model.predict(user_movie_array).flatten()\n",
        "top_ratings_indices = ratings.argsort()[-10:][::-1]\n",
        "recommended_movie_ids = [\n",
        "    movie_encoded2movie.get(movies_not_watched[x][0]) for x in top_ratings_indices\n",
        "]\n",
        "\n",
        "print(\"Showing recommendations for user: {}\".format(user_id))\n",
        "print(\"====\" * 9)\n",
        "print(\"Movies with high ratings from user\")\n",
        "print(\"----\" * 8)\n",
        "top_movies_user = (\n",
        "    movies_watched_by_user.sort_values(by=\"rating\", ascending=False)\n",
        "    .head(5)\n",
        "    .movieId.values\n",
        ")\n",
        "movie_df_rows = movie_df[movie_df[\"movieId\"].isin(top_movies_user)]\n",
        "for row in movie_df_rows.itertuples():\n",
        "    print(row.title, \":\", row.genres)\n",
        "\n",
        "print(\"----\" * 8)\n",
        "print(\"Top 10 movie recommendations\")\n",
        "print(\"----\" * 8)\n",
        "recommended_movies = movie_df[movie_df[\"movieId\"].isin(recommended_movie_ids)]\n",
        "for row in recommended_movies.to_dict(orient='records'):\n",
        "    print(recommended_movies.to_dict('records'))\n",
        "\n"
      ],
      "execution_count": 26,
      "outputs": [
        {
          "output_type": "stream",
          "text": [
            "Showing recommendations for user: 522\n",
            "====================================\n",
            "Movies with high ratings from user\n",
            "--------------------------------\n",
            "Scott Pilgrim vs. the World (2010) : Action|Comedy|Fantasy|Musical|Romance\n",
            "Tron: Legacy (2010) : Action|Adventure|Sci-Fi|IMAX\n",
            "Louis C.K.: Chewed Up (2008) : Comedy\n",
            "Avengers, The (2012) : Action|Adventure|Sci-Fi|IMAX\n",
            "Louis C.K.: Live at the Beacon Theater (2011) : Comedy\n",
            "--------------------------------\n",
            "Top 10 movie recommendations\n",
            "--------------------------------\n",
            "[{'movieId': 32, 'title': 'Twelve Monkeys (a.k.a. 12 Monkeys) (1995)', 'genres': 'Mystery|Sci-Fi|Thriller'}, {'movieId': 527, 'title': \"Schindler's List (1993)\", 'genres': 'Drama|War'}, {'movieId': 904, 'title': 'Rear Window (1954)', 'genres': 'Mystery|Thriller'}, {'movieId': 1242, 'title': 'Glory (1989)', 'genres': 'Drama|War'}, {'movieId': 1252, 'title': 'Chinatown (1974)', 'genres': 'Crime|Film-Noir|Mystery|Thriller'}, {'movieId': 1258, 'title': 'Shining, The (1980)', 'genres': 'Horror'}, {'movieId': 1266, 'title': 'Unforgiven (1992)', 'genres': 'Drama|Western'}, {'movieId': 1276, 'title': 'Cool Hand Luke (1967)', 'genres': 'Drama'}, {'movieId': 4973, 'title': \"Amelie (Fabuleux destin d'Amélie Poulain, Le) (2001)\", 'genres': 'Comedy|Romance'}, {'movieId': 4995, 'title': 'Beautiful Mind, A (2001)', 'genres': 'Drama|Romance'}]\n",
            "[{'movieId': 32, 'title': 'Twelve Monkeys (a.k.a. 12 Monkeys) (1995)', 'genres': 'Mystery|Sci-Fi|Thriller'}, {'movieId': 527, 'title': \"Schindler's List (1993)\", 'genres': 'Drama|War'}, {'movieId': 904, 'title': 'Rear Window (1954)', 'genres': 'Mystery|Thriller'}, {'movieId': 1242, 'title': 'Glory (1989)', 'genres': 'Drama|War'}, {'movieId': 1252, 'title': 'Chinatown (1974)', 'genres': 'Crime|Film-Noir|Mystery|Thriller'}, {'movieId': 1258, 'title': 'Shining, The (1980)', 'genres': 'Horror'}, {'movieId': 1266, 'title': 'Unforgiven (1992)', 'genres': 'Drama|Western'}, {'movieId': 1276, 'title': 'Cool Hand Luke (1967)', 'genres': 'Drama'}, {'movieId': 4973, 'title': \"Amelie (Fabuleux destin d'Amélie Poulain, Le) (2001)\", 'genres': 'Comedy|Romance'}, {'movieId': 4995, 'title': 'Beautiful Mind, A (2001)', 'genres': 'Drama|Romance'}]\n",
            "[{'movieId': 32, 'title': 'Twelve Monkeys (a.k.a. 12 Monkeys) (1995)', 'genres': 'Mystery|Sci-Fi|Thriller'}, {'movieId': 527, 'title': \"Schindler's List (1993)\", 'genres': 'Drama|War'}, {'movieId': 904, 'title': 'Rear Window (1954)', 'genres': 'Mystery|Thriller'}, {'movieId': 1242, 'title': 'Glory (1989)', 'genres': 'Drama|War'}, {'movieId': 1252, 'title': 'Chinatown (1974)', 'genres': 'Crime|Film-Noir|Mystery|Thriller'}, {'movieId': 1258, 'title': 'Shining, The (1980)', 'genres': 'Horror'}, {'movieId': 1266, 'title': 'Unforgiven (1992)', 'genres': 'Drama|Western'}, {'movieId': 1276, 'title': 'Cool Hand Luke (1967)', 'genres': 'Drama'}, {'movieId': 4973, 'title': \"Amelie (Fabuleux destin d'Amélie Poulain, Le) (2001)\", 'genres': 'Comedy|Romance'}, {'movieId': 4995, 'title': 'Beautiful Mind, A (2001)', 'genres': 'Drama|Romance'}]\n",
            "[{'movieId': 32, 'title': 'Twelve Monkeys (a.k.a. 12 Monkeys) (1995)', 'genres': 'Mystery|Sci-Fi|Thriller'}, {'movieId': 527, 'title': \"Schindler's List (1993)\", 'genres': 'Drama|War'}, {'movieId': 904, 'title': 'Rear Window (1954)', 'genres': 'Mystery|Thriller'}, {'movieId': 1242, 'title': 'Glory (1989)', 'genres': 'Drama|War'}, {'movieId': 1252, 'title': 'Chinatown (1974)', 'genres': 'Crime|Film-Noir|Mystery|Thriller'}, {'movieId': 1258, 'title': 'Shining, The (1980)', 'genres': 'Horror'}, {'movieId': 1266, 'title': 'Unforgiven (1992)', 'genres': 'Drama|Western'}, {'movieId': 1276, 'title': 'Cool Hand Luke (1967)', 'genres': 'Drama'}, {'movieId': 4973, 'title': \"Amelie (Fabuleux destin d'Amélie Poulain, Le) (2001)\", 'genres': 'Comedy|Romance'}, {'movieId': 4995, 'title': 'Beautiful Mind, A (2001)', 'genres': 'Drama|Romance'}]\n",
            "[{'movieId': 32, 'title': 'Twelve Monkeys (a.k.a. 12 Monkeys) (1995)', 'genres': 'Mystery|Sci-Fi|Thriller'}, {'movieId': 527, 'title': \"Schindler's List (1993)\", 'genres': 'Drama|War'}, {'movieId': 904, 'title': 'Rear Window (1954)', 'genres': 'Mystery|Thriller'}, {'movieId': 1242, 'title': 'Glory (1989)', 'genres': 'Drama|War'}, {'movieId': 1252, 'title': 'Chinatown (1974)', 'genres': 'Crime|Film-Noir|Mystery|Thriller'}, {'movieId': 1258, 'title': 'Shining, The (1980)', 'genres': 'Horror'}, {'movieId': 1266, 'title': 'Unforgiven (1992)', 'genres': 'Drama|Western'}, {'movieId': 1276, 'title': 'Cool Hand Luke (1967)', 'genres': 'Drama'}, {'movieId': 4973, 'title': \"Amelie (Fabuleux destin d'Amélie Poulain, Le) (2001)\", 'genres': 'Comedy|Romance'}, {'movieId': 4995, 'title': 'Beautiful Mind, A (2001)', 'genres': 'Drama|Romance'}]\n",
            "[{'movieId': 32, 'title': 'Twelve Monkeys (a.k.a. 12 Monkeys) (1995)', 'genres': 'Mystery|Sci-Fi|Thriller'}, {'movieId': 527, 'title': \"Schindler's List (1993)\", 'genres': 'Drama|War'}, {'movieId': 904, 'title': 'Rear Window (1954)', 'genres': 'Mystery|Thriller'}, {'movieId': 1242, 'title': 'Glory (1989)', 'genres': 'Drama|War'}, {'movieId': 1252, 'title': 'Chinatown (1974)', 'genres': 'Crime|Film-Noir|Mystery|Thriller'}, {'movieId': 1258, 'title': 'Shining, The (1980)', 'genres': 'Horror'}, {'movieId': 1266, 'title': 'Unforgiven (1992)', 'genres': 'Drama|Western'}, {'movieId': 1276, 'title': 'Cool Hand Luke (1967)', 'genres': 'Drama'}, {'movieId': 4973, 'title': \"Amelie (Fabuleux destin d'Amélie Poulain, Le) (2001)\", 'genres': 'Comedy|Romance'}, {'movieId': 4995, 'title': 'Beautiful Mind, A (2001)', 'genres': 'Drama|Romance'}]\n",
            "[{'movieId': 32, 'title': 'Twelve Monkeys (a.k.a. 12 Monkeys) (1995)', 'genres': 'Mystery|Sci-Fi|Thriller'}, {'movieId': 527, 'title': \"Schindler's List (1993)\", 'genres': 'Drama|War'}, {'movieId': 904, 'title': 'Rear Window (1954)', 'genres': 'Mystery|Thriller'}, {'movieId': 1242, 'title': 'Glory (1989)', 'genres': 'Drama|War'}, {'movieId': 1252, 'title': 'Chinatown (1974)', 'genres': 'Crime|Film-Noir|Mystery|Thriller'}, {'movieId': 1258, 'title': 'Shining, The (1980)', 'genres': 'Horror'}, {'movieId': 1266, 'title': 'Unforgiven (1992)', 'genres': 'Drama|Western'}, {'movieId': 1276, 'title': 'Cool Hand Luke (1967)', 'genres': 'Drama'}, {'movieId': 4973, 'title': \"Amelie (Fabuleux destin d'Amélie Poulain, Le) (2001)\", 'genres': 'Comedy|Romance'}, {'movieId': 4995, 'title': 'Beautiful Mind, A (2001)', 'genres': 'Drama|Romance'}]\n",
            "[{'movieId': 32, 'title': 'Twelve Monkeys (a.k.a. 12 Monkeys) (1995)', 'genres': 'Mystery|Sci-Fi|Thriller'}, {'movieId': 527, 'title': \"Schindler's List (1993)\", 'genres': 'Drama|War'}, {'movieId': 904, 'title': 'Rear Window (1954)', 'genres': 'Mystery|Thriller'}, {'movieId': 1242, 'title': 'Glory (1989)', 'genres': 'Drama|War'}, {'movieId': 1252, 'title': 'Chinatown (1974)', 'genres': 'Crime|Film-Noir|Mystery|Thriller'}, {'movieId': 1258, 'title': 'Shining, The (1980)', 'genres': 'Horror'}, {'movieId': 1266, 'title': 'Unforgiven (1992)', 'genres': 'Drama|Western'}, {'movieId': 1276, 'title': 'Cool Hand Luke (1967)', 'genres': 'Drama'}, {'movieId': 4973, 'title': \"Amelie (Fabuleux destin d'Amélie Poulain, Le) (2001)\", 'genres': 'Comedy|Romance'}, {'movieId': 4995, 'title': 'Beautiful Mind, A (2001)', 'genres': 'Drama|Romance'}]\n",
            "[{'movieId': 32, 'title': 'Twelve Monkeys (a.k.a. 12 Monkeys) (1995)', 'genres': 'Mystery|Sci-Fi|Thriller'}, {'movieId': 527, 'title': \"Schindler's List (1993)\", 'genres': 'Drama|War'}, {'movieId': 904, 'title': 'Rear Window (1954)', 'genres': 'Mystery|Thriller'}, {'movieId': 1242, 'title': 'Glory (1989)', 'genres': 'Drama|War'}, {'movieId': 1252, 'title': 'Chinatown (1974)', 'genres': 'Crime|Film-Noir|Mystery|Thriller'}, {'movieId': 1258, 'title': 'Shining, The (1980)', 'genres': 'Horror'}, {'movieId': 1266, 'title': 'Unforgiven (1992)', 'genres': 'Drama|Western'}, {'movieId': 1276, 'title': 'Cool Hand Luke (1967)', 'genres': 'Drama'}, {'movieId': 4973, 'title': \"Amelie (Fabuleux destin d'Amélie Poulain, Le) (2001)\", 'genres': 'Comedy|Romance'}, {'movieId': 4995, 'title': 'Beautiful Mind, A (2001)', 'genres': 'Drama|Romance'}]\n",
            "[{'movieId': 32, 'title': 'Twelve Monkeys (a.k.a. 12 Monkeys) (1995)', 'genres': 'Mystery|Sci-Fi|Thriller'}, {'movieId': 527, 'title': \"Schindler's List (1993)\", 'genres': 'Drama|War'}, {'movieId': 904, 'title': 'Rear Window (1954)', 'genres': 'Mystery|Thriller'}, {'movieId': 1242, 'title': 'Glory (1989)', 'genres': 'Drama|War'}, {'movieId': 1252, 'title': 'Chinatown (1974)', 'genres': 'Crime|Film-Noir|Mystery|Thriller'}, {'movieId': 1258, 'title': 'Shining, The (1980)', 'genres': 'Horror'}, {'movieId': 1266, 'title': 'Unforgiven (1992)', 'genres': 'Drama|Western'}, {'movieId': 1276, 'title': 'Cool Hand Luke (1967)', 'genres': 'Drama'}, {'movieId': 4973, 'title': \"Amelie (Fabuleux destin d'Amélie Poulain, Le) (2001)\", 'genres': 'Comedy|Romance'}, {'movieId': 4995, 'title': 'Beautiful Mind, A (2001)', 'genres': 'Drama|Romance'}]\n",
            "Requirement already satisfied: flask-ngrok in /usr/local/lib/python3.6/dist-packages (0.0.25)\n",
            "Requirement already satisfied: Flask>=0.8 in /usr/local/lib/python3.6/dist-packages (from flask-ngrok) (1.1.2)\n",
            "Requirement already satisfied: requests in /usr/local/lib/python3.6/dist-packages (from flask-ngrok) (2.23.0)\n",
            "Requirement already satisfied: Jinja2>=2.10.1 in /usr/local/lib/python3.6/dist-packages (from Flask>=0.8->flask-ngrok) (2.11.2)\n",
            "Requirement already satisfied: itsdangerous>=0.24 in /usr/local/lib/python3.6/dist-packages (from Flask>=0.8->flask-ngrok) (1.1.0)\n",
            "Requirement already satisfied: Werkzeug>=0.15 in /usr/local/lib/python3.6/dist-packages (from Flask>=0.8->flask-ngrok) (1.0.1)\n",
            "Requirement already satisfied: click>=5.1 in /usr/local/lib/python3.6/dist-packages (from Flask>=0.8->flask-ngrok) (7.1.2)\n",
            "Requirement already satisfied: certifi>=2017.4.17 in /usr/local/lib/python3.6/dist-packages (from requests->flask-ngrok) (2020.6.20)\n",
            "Requirement already satisfied: idna<3,>=2.5 in /usr/local/lib/python3.6/dist-packages (from requests->flask-ngrok) (2.10)\n",
            "Requirement already satisfied: urllib3!=1.25.0,!=1.25.1,<1.26,>=1.21.1 in /usr/local/lib/python3.6/dist-packages (from requests->flask-ngrok) (1.24.3)\n",
            "Requirement already satisfied: chardet<4,>=3.0.2 in /usr/local/lib/python3.6/dist-packages (from requests->flask-ngrok) (3.0.4)\n",
            "Requirement already satisfied: MarkupSafe>=0.23 in /usr/local/lib/python3.6/dist-packages (from Jinja2>=2.10.1->Flask>=0.8->flask-ngrok) (1.1.1)\n",
            " * Serving Flask app \"__main__\" (lazy loading)\n",
            " * Environment: production\n",
            "\u001b[31m   WARNING: This is a development server. Do not use it in a production deployment.\u001b[0m\n",
            "\u001b[2m   Use a production WSGI server instead.\u001b[0m\n",
            " * Debug mode: off\n"
          ],
          "name": "stdout"
        },
        {
          "output_type": "stream",
          "text": [
            " * Running on http://127.0.0.1:5000/ (Press CTRL+C to quit)\n"
          ],
          "name": "stderr"
        },
        {
          "output_type": "stream",
          "text": [
            " * Running on http://805e6a47865b.ngrok.io\n",
            " * Traffic stats available on http://127.0.0.1:4040\n"
          ],
          "name": "stdout"
        }
      ]
    },
    {
      "cell_type": "markdown",
      "metadata": {
        "id": "2V0hXmZLciJy"
      },
      "source": [
        "#Flask webservice\n",
        "Returns a json data fromat for the recommended movies"
      ]
    },
    {
      "cell_type": "code",
      "metadata": {
        "id": "p9D8WVtQc1w1",
        "outputId": "3cf1887c-2097-47f8-aa8a-25461c47f669",
        "colab": {
          "base_uri": "https://localhost:8080/",
          "height": 411
        }
      },
      "source": [
        "!pip install flask-ngrok\n",
        "from flask_ngrok import run_with_ngrok\n",
        "from flask import Flask,request,jsonify\n",
        "app = Flask(__name__)\n",
        "run_with_ngrok(app)   #starts ngrok when the app is run\n",
        "@app.route(\"/\", methods=['GET'])\n",
        "def home():\n",
        "      res = recommended_movies.to_dict(orient='records')\n",
        "      return jsonify(res)\n",
        "app.run()"
      ],
      "execution_count": null,
      "outputs": [
        {
          "output_type": "stream",
          "text": [
            "Requirement already satisfied: flask-ngrok in /usr/local/lib/python3.6/dist-packages (0.0.25)\n",
            "Requirement already satisfied: Flask>=0.8 in /usr/local/lib/python3.6/dist-packages (from flask-ngrok) (1.1.2)\n",
            "Requirement already satisfied: requests in /usr/local/lib/python3.6/dist-packages (from flask-ngrok) (2.23.0)\n",
            "Requirement already satisfied: itsdangerous>=0.24 in /usr/local/lib/python3.6/dist-packages (from Flask>=0.8->flask-ngrok) (1.1.0)\n",
            "Requirement already satisfied: Werkzeug>=0.15 in /usr/local/lib/python3.6/dist-packages (from Flask>=0.8->flask-ngrok) (1.0.1)\n",
            "Requirement already satisfied: Jinja2>=2.10.1 in /usr/local/lib/python3.6/dist-packages (from Flask>=0.8->flask-ngrok) (2.11.2)\n",
            "Requirement already satisfied: click>=5.1 in /usr/local/lib/python3.6/dist-packages (from Flask>=0.8->flask-ngrok) (7.1.2)\n",
            "Requirement already satisfied: idna<3,>=2.5 in /usr/local/lib/python3.6/dist-packages (from requests->flask-ngrok) (2.10)\n",
            "Requirement already satisfied: chardet<4,>=3.0.2 in /usr/local/lib/python3.6/dist-packages (from requests->flask-ngrok) (3.0.4)\n",
            "Requirement already satisfied: urllib3!=1.25.0,!=1.25.1,<1.26,>=1.21.1 in /usr/local/lib/python3.6/dist-packages (from requests->flask-ngrok) (1.24.3)\n",
            "Requirement already satisfied: certifi>=2017.4.17 in /usr/local/lib/python3.6/dist-packages (from requests->flask-ngrok) (2020.6.20)\n",
            "Requirement already satisfied: MarkupSafe>=0.23 in /usr/local/lib/python3.6/dist-packages (from Jinja2>=2.10.1->Flask>=0.8->flask-ngrok) (1.1.1)\n",
            " * Serving Flask app \"__main__\" (lazy loading)\n",
            " * Environment: production\n",
            "\u001b[31m   WARNING: This is a development server. Do not use it in a production deployment.\u001b[0m\n",
            "\u001b[2m   Use a production WSGI server instead.\u001b[0m\n",
            " * Debug mode: off\n"
          ],
          "name": "stdout"
        },
        {
          "output_type": "stream",
          "text": [
            " * Running on http://127.0.0.1:5000/ (Press CTRL+C to quit)\n"
          ],
          "name": "stderr"
        },
        {
          "output_type": "stream",
          "text": [
            " * Running on http://fcad49fca4b6.ngrok.io\n",
            " * Traffic stats available on http://127.0.0.1:4040\n"
          ],
          "name": "stdout"
        },
        {
          "output_type": "stream",
          "text": [
            "127.0.0.1 - - [01/Oct/2020 09:17:26] \"\u001b[37mGET / HTTP/1.1\u001b[0m\" 200 -\n",
            "127.0.0.1 - - [01/Oct/2020 09:17:27] \"\u001b[33mGET /favicon.ico HTTP/1.1\u001b[0m\" 404 -\n"
          ],
          "name": "stderr"
        }
      ]
    }
  ]
}